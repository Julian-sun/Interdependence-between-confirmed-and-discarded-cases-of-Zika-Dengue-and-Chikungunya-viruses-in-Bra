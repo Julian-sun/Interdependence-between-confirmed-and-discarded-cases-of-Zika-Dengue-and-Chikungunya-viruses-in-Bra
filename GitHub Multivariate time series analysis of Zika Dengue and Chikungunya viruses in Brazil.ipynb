{
 "cells": [
  {
   "cell_type": "markdown",
   "metadata": {},
   "source": [
    "### Vector Autoregressive (VAR) model for multivariate time series analysis of discarded and confirmed cases of dengue, chikungunya, and Zika in Brazil."
   ]
  },
  {
   "cell_type": "code",
   "execution_count": 1,
   "metadata": {},
   "outputs": [],
   "source": [
    "import pandas as pd\n",
    "import numpy as np\n",
    "import math\n",
    "import statsmodels as sm\n",
    "import plotly.graph_objs as go\n",
    "import matplotlib.pyplot as plt\n",
    "import csv\n",
    "import seaborn as sns\n",
    "%matplotlib inline\n",
    "sns.set()\n",
    "from PIL import Image\n",
    "from scipy.stats import norm"
   ]
  },
  {
   "cell_type": "code",
   "execution_count": 3,
   "metadata": {},
   "outputs": [],
   "source": [
    "# Data import as DataFrame. The data can be found in [1].\n",
    "series = pd.read_csv(\"data.csv\")\n",
    "series.head()"
   ]
  },
  {
   "cell_type": "code",
   "execution_count": null,
   "metadata": {},
   "outputs": [],
   "source": [
    "# Substitute null values with zero. \n",
    "series.fillna(0, inplace=True)"
   ]
  },
  {
   "cell_type": "code",
   "execution_count": null,
   "metadata": {},
   "outputs": [],
   "source": [
    "# Providing the index to the time series, where DF stands for dataframe.\n",
    "series_DF = pd.DataFrame(data = series.values, columns = ['year_week','cases_zika', 'cases_des_zika', 'cases_chik',\n",
    "                                                          'cases_des_chik', 'cases_dengue', 'cases_dengue_des'],\n",
    "                           index = pd.DatetimeIndex(start = '2014-12-29', periods = 156, freq = 'W-MON'))\n",
    "series_DF = series_DF.drop(columns = ['year_week'])\n",
    "series_DF.head(20)"
   ]
  },
  {
   "cell_type": "code",
   "execution_count": null,
   "metadata": {},
   "outputs": [],
   "source": [
    "# Visualisation of the series of discarded and confirmed cases of dengue,\n",
    "# chikungunya, and Zika in Brazil.\n",
    "\n",
    "ax = series_DF.plot(figsize=(12,8), linewidth=3, fontsize=32,label = 'Confirmed Zika Cases')\n",
    "plt.xlabel('Years', fontsize=28)\n",
    "plt.ylabel('Cases per week', fontsize=32)\n",
    "plt.legend(['Confirmed Zika', 'Discarded Zika', 'Confirmed Chikungunya',\n",
    "       'Discarded Chikungunya', 'Confirmed Dengue', 'Discarded Dengue'], fontsize=15,loc = \"best\")\n",
    "# plt.savefig('fig.png') - optional"
   ]
  },
  {
   "cell_type": "code",
   "execution_count": null,
   "metadata": {},
   "outputs": [],
   "source": [
    "# Creating the test for stationarity\n",
    "from statsmodels.tsa.stattools import adfuller\n",
    "def test_stationarity(timeseries):\n",
    "    \n",
    "    #Perform Dickey-Fuller test:\n",
    "    print ('Results of Dickey-Fuller Test:')\n",
    "    dftest = adfuller(timeseries, autolag='AIC')\n",
    "    dfoutput = pd.Series(dftest[0:4], index=['Test Statistic','p-value','#Lags Used','Number of Observations Used'])\n",
    "    for key,value in dftest[4].items():\n",
    "        dfoutput['Critical Value (%s)'%key] = value\n",
    "    print (dfoutput) "
   ]
  },
  {
   "cell_type": "markdown",
   "metadata": {},
   "source": [
    "The intuition behind the test is that if the series is characterised by a unit root process then the lagged level of the series ( ${\\displaystyle y_{t-1}}$) will provide no relevant information in predicting the change in ${\\displaystyle y_{t}}$  besides the one obtained in the lagged changes ( ${\\displaystyle \\Delta y_{t-k}}$). In this case the null hypothesis is not rejected. In contrast, when the process has no unit root, it is stationary and hence exhibits reversion to the mean - so the lagged level will provide relevant information in predicting the change of the series and the null of a unit root will be rejected."
   ]
  },
  {
   "cell_type": "code",
   "execution_count": null,
   "metadata": {},
   "outputs": [],
   "source": [
    "# Loop to check all columns of the DF\n",
    "import functools\n",
    "series_DF.apply(functools.partial(test_stationarity))"
   ]
  },
  {
   "cell_type": "code",
   "execution_count": null,
   "metadata": {},
   "outputs": [],
   "source": [
    "# Differencing to get the data stationary\n",
    "seriesDiff = series_DF.diff().dropna()\n",
    "seriesDiff"
   ]
  },
  {
   "cell_type": "code",
   "execution_count": null,
   "metadata": {},
   "outputs": [],
   "source": [
    "# Retest the differenced series\n",
    "seriesDiff.apply(functools.partial(test_stationarity))"
   ]
  },
  {
   "cell_type": "code",
   "execution_count": null,
   "metadata": {},
   "outputs": [],
   "source": [
    "# change values type\n",
    "seriesDiff = seriesDiff.apply(pd.to_numeric)"
   ]
  },
  {
   "cell_type": "code",
   "execution_count": null,
   "metadata": {},
   "outputs": [],
   "source": [
    "# Creating the VAR model\n",
    "from statsmodels.tsa.vector_ar.var_model import VAR\n",
    "\n",
    "model = VAR(seriesDiff) "
   ]
  },
  {
   "cell_type": "code",
   "execution_count": null,
   "metadata": {},
   "outputs": [],
   "source": [
    "# Best model order (automatic selection)\n",
    "modsel1 = model.select_order()\n",
    "modsel1.summary()"
   ]
  },
  {
   "cell_type": "code",
   "execution_count": null,
   "metadata": {},
   "outputs": [],
   "source": [
    "# Automated model order selection\n",
    "results = model1.fit(maxlags=13, ic='aic')\n",
    "results.summary()"
   ]
  },
  {
   "cell_type": "code",
   "execution_count": null,
   "metadata": {},
   "outputs": [],
   "source": [
    "# Correlation matrix of the stationary series of confirmed and discarded cases \n",
    "# of dengue, chikungunya and Zika. Brazil, January 2015 to December 2017.\n",
    "\n",
    "seriesDiff.corr()"
   ]
  },
  {
   "cell_type": "code",
   "execution_count": null,
   "metadata": {},
   "outputs": [],
   "source": [
    "# Autocorrelation function (ACF) plot of the residuals with 2=pT bounds.\n",
    "results.plot_acorr()\n",
    "fig.tight_layout()\n",
    "#plt.savefig('ACF_residual.pdf')"
   ]
  },
  {
   "cell_type": "markdown",
   "metadata": {},
   "source": [
    "### Residuals"
   ]
  },
  {
   "cell_type": "code",
   "execution_count": null,
   "metadata": {},
   "outputs": [],
   "source": [
    "##  Residuals \n",
    "zika_residual = results.resid['cases_zika']\n",
    "des_zika_residual = results.resid['cases_des_zika']\n",
    "chik_residual = results.resid['cases_chik'] \n",
    "des_chik_residual = results.resid['cases_des_chik']\n",
    "dengue_residual =  results.resid['cases_dengue']\n",
    "dengue_des_residual =results.resid['cases_dengue_des']"
   ]
  },
  {
   "cell_type": "markdown",
   "metadata": {},
   "source": [
    "##### Probability plot for model’s residuals.\n"
   ]
  },
  {
   "cell_type": "code",
   "execution_count": null,
   "metadata": {},
   "outputs": [],
   "source": [
    "stats.probplot(zika_residual, dist=\"norm\", plot=pylab, rvalue=True)\n",
    "\n",
    "fig = plt.figure()\n",
    "ax1 = fig.add_subplot(211)\n",
    "plt.xlabel('Lag',fontsize=10)\n",
    "\n",
    "fig = plot_acf(zika_residual, lags=30, ax=ax1)\n",
    "ax2 = fig.add_subplot(212)\n",
    "fig = plot_pacf(zika_residual, lags=30, ax=ax2)\n",
    "plt.xlabel('Lag',fontsize=10)\n",
    "\n",
    "fig.tight_layout()\n",
    "#plt.savefig('zika_residual.png')"
   ]
  },
  {
   "cell_type": "code",
   "execution_count": null,
   "metadata": {},
   "outputs": [],
   "source": [
    "stats.probplot(des_zika_residual, dist=\"norm\", plot=pylab,rvalue=True)\n",
    "\n",
    "fig = plt.figure()\n",
    "ax1 = fig.add_subplot(211)\n",
    "plt.xlabel('Lag',fontsize=10)\n",
    "\n",
    "fig = plot_acf(des_zika_residual, lags=30, ax=ax1)\n",
    "ax2 = fig.add_subplot(212)\n",
    "fig = plot_pacf(des_zika_residual, lags=30, ax=ax2)\n",
    "plt.xlabel('Lag',fontsize=10)\n",
    "\n",
    "fig.tight_layout()\n",
    "#plt.savefig('des_zika_residual.png')"
   ]
  },
  {
   "cell_type": "code",
   "execution_count": null,
   "metadata": {},
   "outputs": [],
   "source": [
    "stats.probplot(chik_residual, dist=\"norm\", plot=pylab,rvalue=True)\n",
    "\n",
    "fig = plt.figure()\n",
    "ax1 = fig.add_subplot(211)\n",
    "plt.xlabel('Lag',fontsize=10)\n",
    "\n",
    "fig = plot_acf(chik_residual, lags=30, ax=ax1)\n",
    "ax2 = fig.add_subplot(212)\n",
    "fig = plot_pacf(chik_residual, lags=30, ax=ax2)\n",
    "plt.xlabel('Lag',fontsize=10)\n",
    "\n",
    "fig.tight_layout()\n",
    "#plt.savefig('chik_residual.png')"
   ]
  },
  {
   "cell_type": "code",
   "execution_count": null,
   "metadata": {},
   "outputs": [],
   "source": [
    "stats.probplot(des_chik_residual, dist=\"norm\", plot=pylab,rvalue=True)\n",
    "\n",
    "fig = plt.figure()\n",
    "ax1 = fig.add_subplot(211)\n",
    "plt.xlabel('Lag',fontsize=10)\n",
    "\n",
    "fig = plot_acf(des_chik_residual, lags=30, ax=ax1)\n",
    "ax2 = fig.add_subplot(212)\n",
    "fig = plot_pacf(des_chik_residual, lags=30, ax=ax2)\n",
    "plt.xlabel('Lag',fontsize=10)\n",
    "\n",
    "fig.tight_layout()\n",
    "#plt.savefig('des_chik_residual.png')"
   ]
  },
  {
   "cell_type": "code",
   "execution_count": null,
   "metadata": {},
   "outputs": [],
   "source": [
    "stats.probplot(dengue_residual, dist=\"norm\", plot=pylab,rvalue=True)\n",
    "\n",
    "fig = plt.figure()\n",
    "ax1 = fig.add_subplot(211)\n",
    "plt.xlabel('Lag',fontsize=10)\n",
    "\n",
    "fig = plot_acf(dengue_residual, lags=30, ax=ax1)\n",
    "ax2 = fig.add_subplot(212)\n",
    "fig = plot_pacf(dengue_residual, lags=30, ax=ax2)\n",
    "plt.xlabel('Lag',fontsize=10)\n",
    "\n",
    "fig.tight_layout()\n",
    "#plt.savefig('dengue_residual.png')"
   ]
  },
  {
   "cell_type": "code",
   "execution_count": null,
   "metadata": {},
   "outputs": [],
   "source": [
    "stats.probplot(dengue_des_residual, dist=\"norm\", plot=pylab, rvalue=True)\n",
    "\n",
    "fig = plt.figure()\n",
    "ax1 = fig.add_subplot(211)\n",
    "plt.xlabel('Lag',fontsize=10)\n",
    "\n",
    "fig = plot_acf(dengue_des_residual, lags=30, ax=ax1)\n",
    "ax2 = fig.add_subplot(212)\n",
    "fig = plot_pacf(dengue_des_residual, lags=30, ax=ax2)\n",
    "plt.xlabel('Lag',fontsize=10)\n",
    "\n",
    "fig.tight_layout()\n",
    "#plt.savefig('dengue_des_residual.png')"
   ]
  },
  {
   "cell_type": "markdown",
   "metadata": {},
   "source": [
    "#### Histogram for model’s residuals.\n"
   ]
  },
  {
   "cell_type": "code",
   "execution_count": null,
   "metadata": {},
   "outputs": [],
   "source": [
    "#plt.figure(figsize = (12, 8))\n",
    "plt.hist(s, bins = 'auto', density = True, rwidth = 0.85,\n",
    "         label = 'Residuals') #density TRUE - norm.dist bell curve\n",
    "mu, std = norm.fit(s)\n",
    "xmin, xmax = plt.xlim()\n",
    "x = np.linspace(xmin, xmax, 100) #linspace returns evenly spaced numbers over a specified interval\n",
    "p = norm.pdf(x, mu, std) #pdf = probability density function\n",
    "plt.plot(x, p, 'm', linewidth = 2)\n",
    "plt.grid(axis='y', alpha = 0.2)\n",
    "plt.xlabel('Residuals')\n",
    "plt.ylabel('Density')\n",
    "plt.title('Random distribution vs Normal Distribution - Mean = '+str(round(mu,2))+', Std = '+str(round(std,2)))\n",
    "plt.show()\n",
    "\n",
    "plt.hist(zika_residual, bins = 'auto', density = True, rwidth = 0.85,\n",
    "         label = 'Residuals') #density TRUE - norm.dist bell curve\n",
    "mu, std = norm.fit(zika_residual)\n",
    "xmin, xmax = plt.xlim()\n",
    "x = np.linspace(xmin, xmax, 100) #linspace returns evenly spaced numbers over a specified interval\n",
    "p = norm.pdf(x, mu, std) #pdf = probability density function\n",
    "plt.plot(x, p, 'm', linewidth = 2)\n",
    "plt.grid(axis='y', alpha = 0.2)\n",
    "plt.xlabel('Residuals')\n",
    "plt.ylabel('Density')\n",
    "plt.title('Residual Zika order p vs Normal Distribution - Mean = '+str(round(mu,2))+', Std = '+str(round(std,2)))\n",
    "plt.show()\n",
    "\n",
    "plt.hist(des_zika_residual, bins = 'auto', density = True, rwidth = 0.85,\n",
    "         label = 'Residuals') #density TRUE - norm.dist bell curve\n",
    "mu, std = norm.fit(des_zika_residual)\n",
    "xmin, xmax = plt.xlim()\n",
    "x = np.linspace(xmin, xmax, 100) #linspace returns evenly spaced numbers over a specified interval\n",
    "p = norm.pdf(x, mu, std) #pdf = probability density function\n",
    "plt.plot(x, p, 'm', linewidth = 2)\n",
    "plt.grid(axis='y', alpha = 0.2)\n",
    "plt.xlabel('Residuals')\n",
    "plt.ylabel('Density')\n",
    "plt.title('Residual Discarded Zika order p vs Normal Distribution - Mean = '+str(round(mu,2))+', Std = '+str(round(std,2)))\n",
    "plt.show()\n",
    "\n",
    "plt.hist(chik_residual, bins = 'auto', density = True, rwidth = 0.85,\n",
    "         label = 'Residuals') #density TRUE - norm.dist bell curve\n",
    "mu, std = norm.fit(chik_residual)\n",
    "xmin, xmax = plt.xlim()\n",
    "x = np.linspace(xmin, xmax, 100) #linspace returns evenly spaced numbers over a specified interval\n",
    "p = norm.pdf(x, mu, std) #pdf = probability density function\n",
    "plt.plot(x, p, 'm', linewidth = 2)\n",
    "plt.grid(axis='y', alpha = 0.2)\n",
    "plt.xlabel('Residuals')\n",
    "plt.ylabel('Density')\n",
    "plt.title('Residual Chik order p vs Normal Distribution - Mean = '+str(round(mu,2))+', Std = '+str(round(std,2)))\n",
    "plt.show()\n",
    "\n",
    "plt.hist(des_chik_residual, bins = 'auto', density = True, rwidth = 0.85,\n",
    "         label = 'Residuals') #density TRUE - norm.dist bell curve\n",
    "mu, std = norm.fit(des_chik_residual)\n",
    "xmin, xmax = plt.xlim()\n",
    "x = np.linspace(xmin, xmax, 100) #linspace returns evenly spaced numbers over a specified interval\n",
    "p = norm.pdf(x, mu, std) #pdf = probability density function\n",
    "plt.plot(x, p, 'm', linewidth = 2)\n",
    "plt.grid(axis='y', alpha = 0.2)\n",
    "plt.xlabel('Residuals')\n",
    "plt.ylabel('Density')\n",
    "plt.title('Residual Discarded Chik order p vs Normal Distribution - Mean = '+str(round(mu,2))+', Std = '+str(round(std,2)))\n",
    "plt.show()\n",
    "\n",
    "plt.hist(dengue_residual, bins = 'auto', density = True, rwidth = 0.85,\n",
    "         label = 'Residuals') #density TRUE - norm.dist bell curve\n",
    "mu, std = norm.fit(dengue_residual)\n",
    "xmin, xmax = plt.xlim()\n",
    "x = np.linspace(xmin, xmax, 100) #linspace returns evenly spaced numbers over a specified interval\n",
    "p = norm.pdf(x, mu, std) #pdf = probability density function\n",
    "plt.plot(x, p, 'm', linewidth = 2)\n",
    "plt.grid(axis='y', alpha = 0.2)\n",
    "plt.xlabel('Residuals')\n",
    "plt.ylabel('Density')\n",
    "plt.title('Residual Dengue order p vs Normal Distribution - Mean = '+str(round(mu,2))+', Std = '+str(round(std,2)))\n",
    "plt.show()\n",
    "\n",
    "plt.hist(dengue_des_residual, bins = 'auto', density = True, rwidth = 0.85,\n",
    "         label = 'Residuals') #density TRUE - norm.dist bell curve\n",
    "mu, std = norm.fit(dengue_des_residual)\n",
    "xmin, xmax = plt.xlim()\n",
    "x = np.linspace(xmin, xmax, 100) #linspace returns evenly spaced numbers over a specified interval\n",
    "p = norm.pdf(x, mu, std) #pdf = probability density function\n",
    "plt.plot(x, p, 'm', linewidth = 2)\n",
    "plt.grid(axis='y', alpha = 0.2)\n",
    "plt.xlabel('Residuals')\n",
    "plt.ylabel('Density')\n",
    "plt.title('Residual Discarded Dengue order p vs Normal Distribution - Mean = '+str(round(mu,2))+', Std = '+str(round(std,2)))\n",
    "plt.show()"
   ]
  },
  {
   "cell_type": "markdown",
   "metadata": {},
   "source": [
    "###  Granger test for causality"
   ]
  },
  {
   "cell_type": "code",
   "execution_count": null,
   "metadata": {},
   "outputs": [],
   "source": [
    "grangres = results.test_causality('cases_chik', 'cases_zika',\n",
    "                                   kind='f')\n",
    "                                  \n",
    "                                                                             \n",
    "grangres.summary()\n",
    "\n",
    "#'cases_zika', 'cases_des_zika', 'cases_chik', 'cases_des_chik',\n",
    "# 'cases_dengue', 'cases_dengue_des'"
   ]
  }
 ],
 "metadata": {
  "kernelspec": {
   "display_name": "Python 3",
   "language": "python",
   "name": "python3"
  },
  "language_info": {
   "codemirror_mode": {
    "name": "ipython",
    "version": 3
   },
   "file_extension": ".py",
   "mimetype": "text/x-python",
   "name": "python",
   "nbconvert_exporter": "python",
   "pygments_lexer": "ipython3",
   "version": "3.6.5"
  }
 },
 "nbformat": 4,
 "nbformat_minor": 2
}
